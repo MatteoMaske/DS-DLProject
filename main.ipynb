{
 "cells": [
  {
   "cell_type": "markdown",
   "metadata": {},
   "source": [
    "### Dataset\n",
    "Get your two datasets from [here](https://drive.google.com/drive/u/2/folders/1a1-NOxfpX-IC0qMzWD9TIiBGGi6rznOb)"
   ]
  }
 ],
 "metadata": {
  "language_info": {
   "name": "python"
  }
 },
 "nbformat": 4,
 "nbformat_minor": 2
}
